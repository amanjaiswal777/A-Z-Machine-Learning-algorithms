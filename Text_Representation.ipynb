{
  "nbformat": 4,
  "nbformat_minor": 0,
  "metadata": {
    "colab": {
      "name": "Text_Representation.ipynb",
      "provenance": [],
      "include_colab_link": true
    },
    "kernelspec": {
      "name": "python3",
      "display_name": "Python 3"
    }
  },
  "cells": [
    {
      "cell_type": "markdown",
      "metadata": {
        "id": "view-in-github",
        "colab_type": "text"
      },
      "source": [
        "<a href=\"https://colab.research.google.com/github/amanjaiswal777/Fundamentals-Machine-Learning-algorithms/blob/master/Text_Representation.ipynb\" target=\"_parent\"><img src=\"https://colab.research.google.com/assets/colab-badge.svg\" alt=\"Open In Colab\"/></a>"
      ]
    },
    {
      "cell_type": "markdown",
      "metadata": {
        "id": "3uYaJznliG1P",
        "colab_type": "text"
      },
      "source": [
        "#**This repository is about the NATURAL LANGUAGE PROCESSING from Scratch**\n",
        "\n",
        "##Text Representation\n",
        "\n",
        "###In this section we will learn how to represent text in our application.\n",
        "\n",
        "\n",
        "\n"
      ]
    },
    {
      "cell_type": "code",
      "metadata": {
        "id": "ABXfvTAshyJ5",
        "colab_type": "code",
        "colab": {}
      },
      "source": [
        "import string\n",
        "from collections import Counter\n",
        "from pprint import  pprint\n",
        "import gzip\n",
        "import matplotlib.pyplot as plt\n",
        "import numpy as np\n",
        "\n",
        "%matplotlib inline"
      ],
      "execution_count": 0,
      "outputs": []
    },
    {
      "cell_type": "code",
      "metadata": {
        "id": "2ispojr4i-En",
        "colab_type": "code",
        "colab": {}
      },
      "source": [
        "text = \"\"\"Mary had a little lamb, little lamb,\n",
        " little lamb. Mary had a little lamb\n",
        " whose fleece was white as snow.\n",
        " And everywhere that Mary went\n",
        " Mary went, Mary went. Everywhere\n",
        " that Mary went,\n",
        " The lamb was sure to go\"\"\""
      ],
      "execution_count": 0,
      "outputs": []
    },
    {
      "cell_type": "markdown",
      "metadata": {
        "id": "GNxRwhkUju9V",
        "colab_type": "text"
      },
      "source": [
        "##**Tokenization**"
      ]
    },
    {
      "cell_type": "code",
      "metadata": {
        "id": "8p6Y-glajsP5",
        "colab_type": "code",
        "colab": {
          "base_uri": "https://localhost:8080/"
        },
        "outputId": "345b915b-1a98-418f-867d-e51f7ad91d1b"
      },
      "source": [
        "print(string.punctuation)"
      ],
      "execution_count": 3,
      "outputs": [
        {
          "output_type": "stream",
          "text": [
            "!\"#$%&'()*+,-./:;<=>?@[\\]^_`{|}~\n"
          ],
          "name": "stdout"
        }
      ]
    },
    {
      "cell_type": "code",
      "metadata": {
        "id": "so_BZ1PikazR",
        "colab_type": "code",
        "colab": {}
      },
      "source": [
        "def extract_words(text):\n",
        "  temp = text.split()\n",
        "  text_words = []\n",
        "\n",
        "  for word in temp:\n",
        "\n",
        "    while word[0] in string.punctuation:\n",
        "      word = word[1:]\n",
        "\n",
        "    while word[-1] in string.punctuation:\n",
        "      word = word[:-1]\n",
        "\n",
        "    text_words.append(word.lower())\n",
        "\n",
        "  return text_words      "
      ],
      "execution_count": 0,
      "outputs": []
    },
    {
      "cell_type": "code",
      "metadata": {
        "id": "sp9b7siFlsEC",
        "colab_type": "code",
        "colab": {
          "base_uri": "https://localhost:8080/"
        },
        "outputId": "a61ab87c-7025-4169-a2fd-5d70b2c26899"
      },
      "source": [
        "text_words = extract_words(text)\n",
        "print(text_words)"
      ],
      "execution_count": 5,
      "outputs": [
        {
          "output_type": "stream",
          "text": [
            "['mary', 'had', 'a', 'little', 'lamb', 'little', 'lamb', 'little', 'lamb', 'mary', 'had', 'a', 'little', 'lamb', 'whose', 'fleece', 'was', 'white', 'as', 'snow', 'and', 'everywhere', 'that', 'mary', 'went', 'mary', 'went', 'mary', 'went', 'everywhere', 'that', 'mary', 'went', 'the', 'lamb', 'was', 'sure', 'to', 'go']\n"
          ],
          "name": "stdout"
        }
      ]
    },
    {
      "cell_type": "code",
      "metadata": {
        "id": "iV7nmTdql-sV",
        "colab_type": "code",
        "colab": {}
      },
      "source": [
        "word_dict = {}\n",
        "word_list = []\n",
        "vocabulary_size = 0\n",
        "text_tokens = []\n",
        "\n",
        "for word in text_words:\n",
        "  if word not in word_dict:\n",
        "    word_dict[word] = vocabulary_size\n",
        "    word_list.append(word)\n",
        "    vocabulary_size += 1\n",
        "\n",
        "\n",
        "  text_tokens.append(word_dict[word])"
      ],
      "execution_count": 0,
      "outputs": []
    },
    {
      "cell_type": "code",
      "metadata": {
        "id": "0kwfVq5Am0yL",
        "colab_type": "code",
        "colab": {
          "base_uri": "https://localhost:8080/"
        },
        "outputId": "bb01ada0-63b3-4d4e-fc44-6cd0d6b5b5cb"
      },
      "source": [
        "print(\"Word list:\", word_list, \"\\n\\n Word dictionary:\")\n",
        "pprint(word_dict)"
      ],
      "execution_count": 7,
      "outputs": [
        {
          "output_type": "stream",
          "text": [
            "Word list: ['mary', 'had', 'a', 'little', 'lamb', 'whose', 'fleece', 'was', 'white', 'as', 'snow', 'and', 'everywhere', 'that', 'went', 'the', 'sure', 'to', 'go'] \n",
            "\n",
            " Word dictionary:\n",
            "{'a': 2,\n",
            " 'and': 11,\n",
            " 'as': 9,\n",
            " 'everywhere': 12,\n",
            " 'fleece': 6,\n",
            " 'go': 18,\n",
            " 'had': 1,\n",
            " 'lamb': 4,\n",
            " 'little': 3,\n",
            " 'mary': 0,\n",
            " 'snow': 10,\n",
            " 'sure': 16,\n",
            " 'that': 13,\n",
            " 'the': 15,\n",
            " 'to': 17,\n",
            " 'was': 7,\n",
            " 'went': 14,\n",
            " 'white': 8,\n",
            " 'whose': 5}\n"
          ],
          "name": "stdout"
        }
      ]
    },
    {
      "cell_type": "code",
      "metadata": {
        "id": "2yEgEe2QnFjr",
        "colab_type": "code",
        "colab": {
          "base_uri": "https://localhost:8080/",
          "height": 55
        },
        "outputId": "80f2acf1-5b44-45a3-cbd8-76a9e9bad717"
      },
      "source": [
        "print(text_tokens)"
      ],
      "execution_count": 8,
      "outputs": [
        {
          "output_type": "stream",
          "text": [
            "[0, 1, 2, 3, 4, 3, 4, 3, 4, 0, 1, 2, 3, 4, 5, 6, 7, 8, 9, 10, 11, 12, 13, 0, 14, 0, 14, 0, 14, 12, 13, 0, 14, 15, 4, 7, 16, 17, 18]\n"
          ],
          "name": "stdout"
        }
      ]
    },
    {
      "cell_type": "markdown",
      "metadata": {
        "id": "O2c_ZKxKnauX",
        "colab_type": "text"
      },
      "source": [
        "##**One Hot encoding**"
      ]
    },
    {
      "cell_type": "code",
      "metadata": {
        "id": "Zst3kqMunOiY",
        "colab_type": "code",
        "colab": {}
      },
      "source": [
        "def one_hot(word, word_dict):\n",
        "  vector = np.zeros(len(word_dict))\n",
        "  vector[word_dict[word]] = 1\n",
        "\n",
        "  return vector"
      ],
      "execution_count": 0,
      "outputs": []
    },
    {
      "cell_type": "code",
      "metadata": {
        "id": "XBDFxRRcn3Ty",
        "colab_type": "code",
        "colab": {
          "base_uri": "https://localhost:8080/",
          "height": 35
        },
        "outputId": "93762287-30c9-4d6d-e07b-c38efe2ac549"
      },
      "source": [
        "fleece_hot = one_hot(\"fleece\", word_dict)\n",
        "print(fleece_hot)"
      ],
      "execution_count": 10,
      "outputs": [
        {
          "output_type": "stream",
          "text": [
            "[0. 0. 0. 0. 0. 0. 1. 0. 0. 0. 0. 0. 0. 0. 0. 0. 0. 0. 0.]\n"
          ],
          "name": "stdout"
        }
      ]
    },
    {
      "cell_type": "code",
      "metadata": {
        "id": "PPIL19LloCMt",
        "colab_type": "code",
        "colab": {
          "base_uri": "https://localhost:8080/",
          "height": 52
        },
        "outputId": "be733d70-dd6b-4bd4-d66a-a7403d49bbe6"
      },
      "source": [
        "print(word_dict[\"fleece\"])\n",
        "fleece_hot[6] == 1"
      ],
      "execution_count": 11,
      "outputs": [
        {
          "output_type": "stream",
          "text": [
            "6\n"
          ],
          "name": "stdout"
        },
        {
          "output_type": "execute_result",
          "data": {
            "text/plain": [
              "True"
            ]
          },
          "metadata": {
            "tags": []
          },
          "execution_count": 11
        }
      ]
    },
    {
      "cell_type": "code",
      "metadata": {
        "id": "KJsiXzzXoT7r",
        "colab_type": "code",
        "colab": {
          "base_uri": "https://localhost:8080/",
          "height": 35
        },
        "outputId": "ece642a8-cb8a-43a6-add1-9d8c2ad5efd3"
      },
      "source": [
        "print(fleece_hot.sum())"
      ],
      "execution_count": 12,
      "outputs": [
        {
          "output_type": "stream",
          "text": [
            "1.0\n"
          ],
          "name": "stdout"
        }
      ]
    },
    {
      "cell_type": "markdown",
      "metadata": {
        "id": "09ZZ8LNYPwHn",
        "colab_type": "text"
      },
      "source": [
        "##**Bag of words**##\n",
        "\n",
        "We can now use the one-hot encoded vector for each word to produce a vector representation of our original text, by simply adding up all the one-hot encoded vectors:"
      ]
    },
    {
      "cell_type": "code",
      "metadata": {
        "id": "jNKhE5XboXRo",
        "colab_type": "code",
        "colab": {
          "base_uri": "https://localhost:8080/",
          "height": 35
        },
        "outputId": "e88c6927-d008-4dac-d4cd-ab2dc53175ee"
      },
      "source": [
        "text_vector1 = np.zeros(vocabulary_size)\n",
        "\n",
        "for word in text_words:\n",
        "  hot_word = one_hot(word, word_dict)\n",
        "  text_vector1 += hot_word\n",
        "\n",
        "print(text_vector1)  "
      ],
      "execution_count": 13,
      "outputs": [
        {
          "output_type": "stream",
          "text": [
            "[6. 2. 2. 4. 5. 1. 1. 2. 1. 1. 1. 1. 2. 2. 4. 1. 1. 1. 1.]\n"
          ],
          "name": "stdout"
        }
      ]
    },
    {
      "cell_type": "markdown",
      "metadata": {
        "id": "8Shpy98QSSJC",
        "colab_type": "text"
      },
      "source": [
        "In practice, we can also easily skip the encoding step at the word level by using the word_dict defined above:"
      ]
    },
    {
      "cell_type": "code",
      "metadata": {
        "id": "DDJNRj-GQuWu",
        "colab_type": "code",
        "colab": {
          "base_uri": "https://localhost:8080/",
          "height": 35
        },
        "outputId": "66ee7078-fe44-4fde-8fb1-2c00ad82e55b"
      },
      "source": [
        "text_vector = np.zeros(vocabulary_size)\n",
        "\n",
        "for word in text_words:\n",
        "  text_vector[word_dict[word]] += 1\n",
        "\n",
        "print(text_vector)  "
      ],
      "execution_count": 18,
      "outputs": [
        {
          "output_type": "stream",
          "text": [
            "[6. 2. 2. 4. 5. 1. 1. 2. 1. 1. 1. 1. 2. 2. 4. 1. 1. 1. 1.]\n"
          ],
          "name": "stdout"
        }
      ]
    },
    {
      "cell_type": "markdown",
      "metadata": {
        "id": "krmZTcbDRcCr",
        "colab_type": "text"
      },
      "source": [
        "Naturally, this approach is completely equivalent to the previous one and has the added advantage of being more efficient in terms of both speed and memory requirements.\n",
        "\n",
        "This is known as the bag of words representation of the text. It should be noted that these vectors simply contains the number of times each word appears in our document, so we can easily tell that the word mary appears exactly 6 times in our little nursery rhyme."
      ]
    },
    {
      "cell_type": "code",
      "metadata": {
        "id": "inBXvoTqRSjC",
        "colab_type": "code",
        "colab": {
          "base_uri": "https://localhost:8080/",
          "height": 35
        },
        "outputId": "6b431d9b-74e2-4c2e-a075-96fd39409514"
      },
      "source": [
        "text_vector[word_dict[\"mary\"]]"
      ],
      "execution_count": 19,
      "outputs": [
        {
          "output_type": "execute_result",
          "data": {
            "text/plain": [
              "6.0"
            ]
          },
          "metadata": {
            "tags": []
          },
          "execution_count": 19
        }
      ]
    },
    {
      "cell_type": "markdown",
      "metadata": {
        "id": "fsPmWzs7RvnQ",
        "colab_type": "text"
      },
      "source": [
        "A more pythonic (and efficient) way of producing the same result is to use the standard Counter module:"
      ]
    },
    {
      "cell_type": "code",
      "metadata": {
        "id": "sq8fiV4PRrDE",
        "colab_type": "code",
        "colab": {
          "base_uri": "https://localhost:8080/",
          "height": 710
        },
        "outputId": "a6740439-46f2-4db0-ad3d-95b2db0bfedd"
      },
      "source": [
        "text_words"
      ],
      "execution_count": 20,
      "outputs": [
        {
          "output_type": "execute_result",
          "data": {
            "text/plain": [
              "['mary',\n",
              " 'had',\n",
              " 'a',\n",
              " 'little',\n",
              " 'lamb',\n",
              " 'little',\n",
              " 'lamb',\n",
              " 'little',\n",
              " 'lamb',\n",
              " 'mary',\n",
              " 'had',\n",
              " 'a',\n",
              " 'little',\n",
              " 'lamb',\n",
              " 'whose',\n",
              " 'fleece',\n",
              " 'was',\n",
              " 'white',\n",
              " 'as',\n",
              " 'snow',\n",
              " 'and',\n",
              " 'everywhere',\n",
              " 'that',\n",
              " 'mary',\n",
              " 'went',\n",
              " 'mary',\n",
              " 'went',\n",
              " 'mary',\n",
              " 'went',\n",
              " 'everywhere',\n",
              " 'that',\n",
              " 'mary',\n",
              " 'went',\n",
              " 'the',\n",
              " 'lamb',\n",
              " 'was',\n",
              " 'sure',\n",
              " 'to',\n",
              " 'go']"
            ]
          },
          "metadata": {
            "tags": []
          },
          "execution_count": 20
        }
      ]
    },
    {
      "cell_type": "code",
      "metadata": {
        "id": "BNN9FCZIRyf4",
        "colab_type": "code",
        "colab": {
          "base_uri": "https://localhost:8080/",
          "height": 355
        },
        "outputId": "74a0721a-044b-44f7-9563-5e13a25b2f83"
      },
      "source": [
        "word_counts = Counter(text_words)\n",
        "pprint(word_counts)"
      ],
      "execution_count": 21,
      "outputs": [
        {
          "output_type": "stream",
          "text": [
            "Counter({'mary': 6,\n",
            "         'lamb': 5,\n",
            "         'little': 4,\n",
            "         'went': 4,\n",
            "         'had': 2,\n",
            "         'a': 2,\n",
            "         'was': 2,\n",
            "         'everywhere': 2,\n",
            "         'that': 2,\n",
            "         'whose': 1,\n",
            "         'fleece': 1,\n",
            "         'white': 1,\n",
            "         'as': 1,\n",
            "         'snow': 1,\n",
            "         'and': 1,\n",
            "         'the': 1,\n",
            "         'sure': 1,\n",
            "         'to': 1,\n",
            "         'go': 1})\n"
          ],
          "name": "stdout"
        }
      ]
    },
    {
      "cell_type": "markdown",
      "metadata": {
        "id": "LNZxhi3JSce_",
        "colab_type": "text"
      },
      "source": [
        "From which we can easily generate the text_vector and word_dict data structures:"
      ]
    },
    {
      "cell_type": "code",
      "metadata": {
        "id": "mRfA41jQSB_6",
        "colab_type": "code",
        "colab": {}
      },
      "source": [
        "items = list(word_counts.items())\n",
        "\n",
        "#Extracting word dictionary and vector representation\n",
        "word_dict2 = dict([[items[i][0], i] for i in range(len(items))])\n",
        "text_vector2 = [items[i][1] for i in range(len(items))]"
      ],
      "execution_count": 0,
      "outputs": []
    },
    {
      "cell_type": "code",
      "metadata": {
        "id": "kOzqW6WKTC-7",
        "colab_type": "code",
        "colab": {
          "base_uri": "https://localhost:8080/",
          "height": 35
        },
        "outputId": "e9fc98ca-c015-43f7-a038-9107a6d45e9e"
      },
      "source": [
        "word_counts['mary']"
      ],
      "execution_count": 23,
      "outputs": [
        {
          "output_type": "execute_result",
          "data": {
            "text/plain": [
              "6"
            ]
          },
          "metadata": {
            "tags": []
          },
          "execution_count": 23
        }
      ]
    },
    {
      "cell_type": "code",
      "metadata": {
        "id": "d3Kiq6dhTISg",
        "colab_type": "code",
        "colab": {
          "base_uri": "https://localhost:8080/",
          "height": 52
        },
        "outputId": "58bb268a-6dce-4eae-81a8-1f64b37b776b"
      },
      "source": [
        "text_vector"
      ],
      "execution_count": 24,
      "outputs": [
        {
          "output_type": "execute_result",
          "data": {
            "text/plain": [
              "array([6., 2., 2., 4., 5., 1., 1., 2., 1., 1., 1., 1., 2., 2., 4., 1., 1.,\n",
              "       1., 1.])"
            ]
          },
          "metadata": {
            "tags": []
          },
          "execution_count": 24
        }
      ]
    },
    {
      "cell_type": "code",
      "metadata": {
        "id": "yJgGkwBETLdQ",
        "colab_type": "code",
        "colab": {
          "base_uri": "https://localhost:8080/",
          "height": 408
        },
        "outputId": "2000110e-4108-44e9-8f85-f4869c73a8b6"
      },
      "source": [
        "print(\"Text vector:\", text_vector2, \"\\n\\nWord dictionary:\")\n",
        "pprint(word_dict2)"
      ],
      "execution_count": 25,
      "outputs": [
        {
          "output_type": "stream",
          "text": [
            "Text vector: [6, 2, 2, 4, 5, 1, 1, 2, 1, 1, 1, 1, 2, 2, 4, 1, 1, 1, 1] \n",
            "\n",
            "Word dictionary:\n",
            "{'a': 2,\n",
            " 'and': 11,\n",
            " 'as': 9,\n",
            " 'everywhere': 12,\n",
            " 'fleece': 6,\n",
            " 'go': 18,\n",
            " 'had': 1,\n",
            " 'lamb': 4,\n",
            " 'little': 3,\n",
            " 'mary': 0,\n",
            " 'snow': 10,\n",
            " 'sure': 16,\n",
            " 'that': 13,\n",
            " 'the': 15,\n",
            " 'to': 17,\n",
            " 'was': 7,\n",
            " 'went': 14,\n",
            " 'white': 8,\n",
            " 'whose': 5}\n"
          ],
          "name": "stdout"
        }
      ]
    },
    {
      "cell_type": "markdown",
      "metadata": {
        "id": "0SAYJ63-ToPu",
        "colab_type": "text"
      },
      "source": [
        "The results using this approach are slightly different than the previous ones, because the words are mapped to different integer ids but the corresponding values are the same:"
      ]
    },
    {
      "cell_type": "code",
      "metadata": {
        "id": "AjnMq1GBTcvh",
        "colab_type": "code",
        "colab": {}
      },
      "source": [
        "for word in word_dict.keys():\n",
        "  if text_vector[word_dict[word]] != text_vector2[word_dict2[word]]:\n",
        "    print(\"Error!\")"
      ],
      "execution_count": 0,
      "outputs": []
    },
    {
      "cell_type": "markdown",
      "metadata": {
        "id": "CX9WWXg_UF4P",
        "colab_type": "text"
      },
      "source": [
        "##**Term Frequency**##\n",
        "The bag of words vector representation introduced above relies simply on the frequency of occurence of each word. Following a long tradition of giving fancy names to simple ideas, this is known as Term Frequency.\n",
        "\n",
        "Intuitively, we expect the the frequency with which a given word is mentioned should correspond to the relevance of that word for the piece of text we are considering. For example, Mary is a pretty important word in our little nursery rhyme and indeed it is the one that occurs the most often:"
      ]
    },
    {
      "cell_type": "code",
      "metadata": {
        "id": "C5NYhww1T7lQ",
        "colab_type": "code",
        "colab": {
          "base_uri": "https://localhost:8080/",
          "height": 355
        },
        "outputId": "cf3fea13-b634-4879-f249-fc4466289b87"
      },
      "source": [
        "sorted(items, key=lambda x:x[1], reverse=True)"
      ],
      "execution_count": 29,
      "outputs": [
        {
          "output_type": "execute_result",
          "data": {
            "text/plain": [
              "[('mary', 6),\n",
              " ('lamb', 5),\n",
              " ('little', 4),\n",
              " ('went', 4),\n",
              " ('had', 2),\n",
              " ('a', 2),\n",
              " ('was', 2),\n",
              " ('everywhere', 2),\n",
              " ('that', 2),\n",
              " ('whose', 1),\n",
              " ('fleece', 1),\n",
              " ('white', 1),\n",
              " ('as', 1),\n",
              " ('snow', 1),\n",
              " ('and', 1),\n",
              " ('the', 1),\n",
              " ('sure', 1),\n",
              " ('to', 1),\n",
              " ('go', 1)]"
            ]
          },
          "metadata": {
            "tags": []
          },
          "execution_count": 29
        }
      ]
    },
    {
      "cell_type": "code",
      "metadata": {
        "id": "rsBOmTQHUaiy",
        "colab_type": "code",
        "colab": {}
      },
      "source": [
        ""
      ],
      "execution_count": 0,
      "outputs": []
    }
  ]
}