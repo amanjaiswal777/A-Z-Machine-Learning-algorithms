{
  "nbformat": 4,
  "nbformat_minor": 0,
  "metadata": {
    "colab": {
      "name": "kernel_functions.ipynb",
      "provenance": [],
      "include_colab_link": true
    },
    "kernelspec": {
      "name": "python3",
      "display_name": "Python 3"
    }
  },
  "cells": [
    {
      "cell_type": "markdown",
      "metadata": {
        "id": "view-in-github",
        "colab_type": "text"
      },
      "source": [
        "<a href=\"https://colab.research.google.com/github/amanjaiswal777/Fundamentals-Machine-Learning-algorithms/blob/master/kernel_functions.ipynb\" target=\"_parent\"><img src=\"https://colab.research.google.com/assets/colab-badge.svg\" alt=\"Open In Colab\"/></a>"
      ]
    },
    {
      "cell_type": "markdown",
      "metadata": {
        "id": "ISwkF069yBSC",
        "colab_type": "text"
      },
      "source": [
        "## These codes are for the implementation of the basic model of the machine learning."
      ]
    },
    {
      "cell_type": "markdown",
      "metadata": {
        "id": "J_hQGYGuyLiI",
        "colab_type": "text"
      },
      "source": [
        "## first we are going to create the helper function that could help in creation of any algorithmic structured whether it is supervised ort unsupervised"
      ]
    },
    {
      "cell_type": "markdown",
      "metadata": {
        "id": "VoasVt_V0v7x",
        "colab_type": "text"
      },
      "source": [
        "##Simple example of how does a kernel work\n",
        "\n",
        "### Simple Example: x = (x1, x2, x3); y = (y1, y2, y3). Then for the function f(x) = (x1x1, x1x2, x1x3, x2x1, x2x2, x2x3, x3x1, x3x2, x3x3), the kernel is K(x, y ) = (<x, y>)².\n",
        "###Let’s plug in some numbers to make this more intuitive: suppose x = (1, 2, 3); y = (4, 5, 6). Then:\n",
        "###f(x) = (1, 2, 3, 2, 4, 6, 3, 6, 9)\n",
        "###f(y) = (16, 20, 24, 20, 25, 30, 24, 30, 36)\n",
        "###<f(x), f(y)> = 16 + 40 + 72 + 40 + 100+ 180 + 72 + 180 + 324 = 1024\n",
        "###A lot of algebra, mainly because f is a mapping from 3-dimensional to 9 dimensional space.\n",
        "###Now let us use the kernel instead:\n",
        "###K(x, y) = (4 + 10 + 18 ) ^2 = 32² = 1024\n",
        "###Same result, but this calculation is so much easier.\n"
      ]
    },
    {
      "cell_type": "code",
      "metadata": {
        "id": "25j5200Wx0sW",
        "colab_type": "code",
        "colab": {}
      },
      "source": [
        "#Implementation of the kernels used in ML\n",
        "\n",
        "#The special syntax **kwargs in function definitions in python is used to pass a keyworded, variable-length argument list.\n",
        "#We use the name kwargs with the double star. ...\n",
        "#A keyword argument is where you provide a name to the variable as you pass it into the function.\n",
        "\n",
        "#importing library\n",
        "import numpy as np\n",
        "\n",
        "def linear_kernel(**kwargs):\n",
        "  def f(x1, x2):\n",
        "    return np.inner(x1, x2) #np.inner is used to find out the inner product of the vectors and product of two scalars.\n",
        "  return f\n",
        "\n",
        "def polynomial_kernel(power, coef, **kwargs):\n",
        "  def f(x1, x2):\n",
        "    return (np.inner(x1, x2) + coef)**power\n",
        "  return f\n",
        "\n",
        "def rbf_kernel(gamma, **kwargs):\n",
        "  def f(x1, x2):\n",
        "    distance = np.linalg.norm(x1 - x2) ** 2\n",
        "    return np.exp(-gamma * distance)\n",
        "  return f"
      ],
      "execution_count": 0,
      "outputs": []
    },
    {
      "cell_type": "markdown",
      "metadata": {
        "id": "2w8m2UKx5K5M",
        "colab_type": "text"
      },
      "source": [
        "##Their are many kernel functions used in SVM which can be given as the :\n",
        "###1. POLYNOMIAL KERNEL\n",
        "###2. GAUSSAIN KERNEL\n",
        "###3. GAUSSAIN RADIAL BASIS FUNCTION(RBF)\n",
        "###4. LAPLACE RBF KERNEL\n",
        "###5. HYPERBOLIC TANGENT KERNEL\n",
        "###6. SIGMOID KERNEL\n",
        "###7. BESSEL FUNCTION OF FIRST KIND KERNEL\n",
        "###8. ANOVA RADIAL BASIS KERNEL\n",
        "###9. LINEAR SPLINE KERNEL IN 1D"
      ]
    },
    {
      "cell_type": "code",
      "metadata": {
        "id": "0VXxw8qC3crq",
        "colab_type": "code",
        "colab": {}
      },
      "source": [
        ""
      ],
      "execution_count": 0,
      "outputs": []
    }
  ]
}